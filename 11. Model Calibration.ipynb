{
 "cells": [
  {
   "cell_type": "markdown",
   "metadata": {},
   "source": [
    "# Introduction\n",
    "* Model calibration is the practice of **fitting model parameters to observed prices in the market**\n",
    "* The problem at hand here is **calibrating the general market model to fit market quotes for vanilla (European) options**"
   ]
  },
  {
   "cell_type": "markdown",
   "metadata": {},
   "source": [
    "# Why Calibration?\n",
    "* In a *narrow sense*, market incompleteness implies that a given derivative cannot be replicated perfectly by trading in the underlying.\n",
    "* In the *wider sense* - admitting jumps - market incompleteness implies a given derivative cannot be replicated perfectly even if trading in all assets (underlying and derivatives) is allowed.\n",
    "* Tankov and Voltchkova - \"Since typically the jump size is not known in advance, the risk associated to jumps cannot be hedged away completely: we are in an incomplete market. In this setting, the hedging becomes an approximation problem: instead of *replicating* an option, one tires to *minimze* the residula hedging error.\""
   ]
  },
  {
   "cell_type": "markdown",
   "metadata": {},
   "source": [
    "# Incomplete Market Example - Motivation for Calibration\n",
    "* Consider a simple market with two dates ${t \\in [0, 1]}$ and three states of the economy at t=1 that occur with equal probability.\n",
    "* There are two assets, a bond that pays ${B_{1} = 10}$ and ${B_{0} = 10 = (1+r)^{-1}}$ meaning r = 0. Second, a risky security which costs ${S_{0} = 10}$ and pays tomorrow ${S_{1} = }$\\begin{pmatrix} 20 \\\\ 10 \\\\ 0 \\end{pmatrix}\n",
    "* Because the number of future states is greather than the number of available assets, the system is underdetermined and not every payoff can be replicated.\n",
    "* Because of this, the system is non-deterministic but admits a range of prices consistent with the risk-neutral probability measure with upper and lower bounds of occurrence.\n",
    "* This is an unsatisfactory answer for quants - as it admits multiple prices for a derivate. To resolve the problem, **introduce calibration**\n",
    "* The key idea here is that **there are so many possible risk-neutral probability measures, you must ask the market for the right one**"
   ]
  },
  {
   "cell_type": "markdown",
   "metadata": {},
   "source": [
    "# Which Model to Pick? - this is what to do for the exercise\n",
    "* M76: Not capable for multiple strikes and maturities - but works well for short maturities and a subset of prices. **(M76 is in chapter 8)**\n",
    "* H93: Capable of replicating longer maturieis as well.\n",
    "* The takeaway: **When calibrating longer maturities, you need a jump component and stochastic volatility**\n",
    "* B96 is the simplest model that admits both jumps and stochastic volatility.\n",
    "* **What about short rates?** - the impact of the short rate is negligible for shorter maturities, but matter in longer equity derivatives.\n",
    "* Usually, the CIR85 stochastic short rate model is used"
   ]
  },
  {
   "cell_type": "markdown",
   "metadata": {},
   "source": [
    "# Which Objective Function to Pick?\n",
    "* Because this is an **optimization problem, not a discrete problem**, we need a loss function.\n",
    "* Three candidates:\n",
    "    1. Mean Squared Error of the price difference ${\\min_{p} \\frac{1}{N} \\sum_{n=1}^N (C_{n}^{*} - C_{n}^{mod}(p))^2}$ for options 1 - N given parameter vector p\n",
    "    2. Mean squared error of the relative price difference (log/%) ${\\min_{p} \\frac{1}{N} \\sum_{n=1}^N (\\frac{(C_{n}^{*} - C_{n}^{mod}(p))}{C_{n}^{*}})^2}$\n",
    "    3. Mean Squared error of the implied vol difference ${\\min_{p} \\frac{1}{N} \\sum_{n=1}^N (\\sigma_{n}^{*} - \\sigma_{n}^{mod}(p))^2}$\n",
    "* Market implied volatilities calibrates to market while model implied volatitilies calibrates to model given observed prices.\n",
    "* For our purposes, we'll weight the difference between market and model volatilities by the vega of the price, which makes more vol-sensitive options (i.e. those at the money and longer maturity) have a higher factor in optimization : ${\\min_{p} \\frac{1}{N} \\sum_{n=1}^N (\\sigma_{n}^{*} - \\sigma_{n}^{mod}(p)^ * \\frac{\\partial C_{n}}{\\partial \\sigma_{n}}) ^2}$"
   ]
  },
  {
   "cell_type": "markdown",
   "metadata": {},
   "source": [
    "# Which Options to Use for Calibration\n",
    "* At least 3: **One ATM, one ITM, one OTM**, because this is the minimum needed to calibrate ATM volatility, smile slope, convexity\n",
    "* How far ITM/OTM? :  ${K^{ATM} +/- \\sigma^{ATM} \\sqrt{T}}$"
   ]
  },
  {
   "cell_type": "markdown",
   "metadata": {},
   "source": [
    "# What Optimization Algorithm?\n",
    "* A four step multi-optimization process\n",
    "    1. Calibrate stochastic short rate\n",
    "    2. Calculate (H93) stochastic vol via global to local optimization\n",
    "    3. Calibrate jump component (BCC97) with stochastic volatility as an input\n",
    "    4. Caluculate stochastic volatility of (BCC97) via local optimization, with all other calibrations as an input - letting jumps freely vary once more\n",
    "* Takeaway: **Let's Calibrate Each Component Against Market Data!**"
   ]
  },
  {
   "cell_type": "markdown",
   "metadata": {},
   "source": [
    "# Calibration - Short Rate Theoretical\n",
    "* The governing stochastic differential equation is ${dr_{t} = \\kappa(\\theta_{r} - r_{t})dt + \\sigma_{r} \\sqrt{r_{t}} d Z_{t}}$\n",
    "* Kappa is mean reversion factor, theta is the mean, and Z is a Wiener process\n",
    "* Calibration aims to the set parameter vector ${\\alpha = \\{\\kappa_{r}, \\theta_{r}, \\sigma_{r}, r_{0}\\}}$ to minimize the difference ${\\Delta f(0,t) \\equiv f(0, t) - f^{CIR85}(0, t; \\alpha)}$ e.g. the difference between market implied rate and model implied rate. Denoting ${B_{t}(T), t < T}$ as the the price of a zero maturing at time T and paying par at that date, then the instantaneous forward rate at time t for time T is ${f(t, T) \\equiv - \\frac{\\partial B_{t}T}{\\partial T}}$\n",
    "* The yield curve version of this is ${B_{t}(T) = exp(- \\int_{t}^{T} f(t,s)ds)}$\n",
    "* With these in mind, the CIR85 formulation is ${f^{CIR85}(0, t; \\alpha) = \\frac{\\kappa_{r} \\theta_{r} (e^{\\gamma t}) - 1}{2 \\gamma + (\\kappa_{r} + \\gamma) (e^{\\gamma t) - 1})} + r_{0} \\frac{4 \\gamma^2 e^{\\gamma t}}{(2 \\gamma + (\\kappa_{r} + \\gamma) (e^{\\gamma t} - 1))^2}}$, given ${\\gamma \\equiv \\sqrt{\\kappa_{r}^2 + 2 \\sigma_{r}^2}}$\n",
    "* The affine form of the price of a zero at time t is ${B_{t}(T) = \\alpha(t,T) e^{-b(t, T) E_{0}^{Q}r_{t}}}$ with ${\\alpha(t, T) \\equiv [\\frac{2\\gamma exp(0.5(\\kappa_{r} + \\gamma)(T - t)}{2\\gamma + (\\kappa_{r} + \\gamma)(e^{\\gamma(T - t)} - 1}]^{\\frac{2\\kappa_{r}\\sigma_{r}}{\\sigma_{r}^2}}}$ and ${b(t, T) \\equiv \\frac{2(e^{\\gamma (T - t)} - 1)}{2\\gamma + (\\kappa_{r} + \\gamma) (e^{\\gamma (T - t)} - 1)} }$"
   ]
  },
  {
   "cell_type": "markdown",
   "metadata": {},
   "source": [
    "# Calibration - Short Rate Empirical\n",
    "* Forwards are rarely quoted directly in the market - but yields, reference, and swap rates are (e.g. UST yields, Bunds, LIBOR, Euribor, OIS, Eonia spot/swap)\n",
    "* The correspondence between yields on a zero and forwards is ${f(0, T) = Y(0, T) + \\frac{\\partial Y(0, T)}{\\partial(T)} * T}$ with ${Y(0, T)}$ as the yield of a bond today.\n",
    "* The continuous version of this solves the equation ${Y(0, T) = \\frac{log B_{T}(T) - log B_{0}(T)}{T}}$\n",
    "* Finally, the value of the bond normalized to 1 gives us ${Y(0, T) = -\\frac{log(B_{0}(T))}{T}}$\n",
    "* Calibration steps:\n",
    "    1. Plot the market-observable forward rates\n",
    "    2. Interpolate a cubic rate curve\n",
    "    3. Minimize the mean square error at seleted discrete points: Given a fixed ${r_{0}}$ and equidistant spacing on ${[0, T]}$ by ${\\Delta t}$ with ${M \\equiv T/\\Delta t}$, the algo is ${\\min_{\\alpha} \\frac{1}{M} \\sum_{m}^{M} (f(0, m \\Delta t; \\alpha) - f^{CIR85}(0, m \\Delta t; \\alpha))^2}$"
   ]
  },
  {
   "cell_type": "markdown",
   "metadata": {},
   "source": [
    "# Calibration - Equity Component\n",
    "* Now that we have the calibrated short rate, we can apply the Fourier transform.\n",
    "* The fundamental formula here is: ${C_{0}(K, T) = S_{0} - B_{0}(T) \\sqrt{S_{0} K} \\frac{1}{\\pi}} * \\int_{0}^{\\infty} Re[e^{-iuk} \\phi (u - i/2, T)] \\frac{du}{u^2 + 1/4}$ \n",
    "* ${k \\equiv log(S_{0}/K)}$ and ${\\phi}$ is the characteristic function of the model at hand.\n",
    "* ${B_{0}(T)}$ is the discount factor\n",
    "* Two characteristic functions are used here, and we take their product: First, the jump component from M76: ${\\phi^{M76K}(u, T) = exp((i u \\omega + \\lambda (e^{i u \\mu_{J} - u^2 \\delta^2/2} - 1))T}$ with the drift correction ${\\omega}$ as ${\\omega \\equiv - \\lambda (e^{\\mu_{J} + \\delta^2/2} - 1)}$ and second the H93 model ${\\phi^{H93}(u, T) = e^{H_{1}(u, T) + H_{2}(u, T) v_{0}}}$\n",
    "* The H93 term needs its own definitions:\n",
    "    1. ${c_{1} \\equiv \\kappa_{v} \\theta_{v}}$\n",
    "    2. ${c_{2} \\equiv - \\sqrt{(\\rho \\sigma_{v} u i - \\kappa_{v})^2 - \\sigma_{v}^2 (-ui - u^2)}}$\n",
    "    3. ${c_{3} \\equiv \\frac{\\kappa_{v} - \\rho \\sigma_{v} ui + c_{2}}{\\kappa_{v} = \\rho \\sigma_{v} ui - c_{2}}}$\n",
    "    4. ${H_{1}(u, T) = r_{0, T} uiT + \\frac{c_{1}}{\\sigma_{v}^2} \\{ (\\kappa_{v} - \\rho \\sigma_{v} ui + c_{2})T - 2log [\\frac{1 - c_{1} e^{c^{3} T} }{1 - c_{3}}]\\}}$\n",
    "    5. ${H_{2}(u, T) \\equiv \\frac{\\kappa_{v} - \\rho \\sigma_{v} ui + c_{2}}{\\sigma_{v}^2} [\\frac{1 - e^{c_{2} T}}{1 - c_{3} e^{c_{2} T}}]}$"
   ]
  },
  {
   "cell_type": "code",
   "execution_count": 4,
   "metadata": {},
   "outputs": [],
   "source": [
    "#\n",
    "# Valuation of European Call and Put Options\n",
    "# Under Stochastic Volatility and Jumps\n",
    "# 09_gmm/BCC_option_valuation.py\n",
    "#\n",
    "# (c) Dr. Yves J. Hilpisch\n",
    "# Derivatives Analytics with Python\n",
    "#\n",
    "import numpy as np\n",
    "from scipy.integrate import quad\n",
    "import warnings\n",
    "warnings.simplefilter('ignore')\n",
    "\n",
    "#\n",
    "# Example Parameters B96 Model\n",
    "#\n",
    "## H93 Parameters\n",
    "kappa_v = 1.5\n",
    "theta_v = 0.02\n",
    "sigma_v = 0.15\n",
    "rho = 0.1\n",
    "v0 = 0.01\n",
    "\n",
    "## M76 Parameters\n",
    "lamb = 0.25\n",
    "mu = -0.2\n",
    "delta = 0.1\n",
    "sigma = np.sqrt(v0)\n",
    "\n",
    "## General Parameters\n",
    "S0 = 100.0\n",
    "K = 100.0\n",
    "T = 1.0\n",
    "r = 0.05\n",
    "\n",
    "def H93_call_value(S0, K, T, r, kappa_v, theta_v, sigma_v, rho, v0):\n",
    "    ''' Valuation of European call option in H93 model via Lewis (2001)\n",
    "    Fourier-based approach.\n",
    "\n",
    "    Parameters\n",
    "    ==========\n",
    "    S0: float\n",
    "        initial stock/index level\n",
    "    K: float\n",
    "        strike price\n",
    "    T: float\n",
    "        time-to-maturity (for t=0)\n",
    "    r: float\n",
    "        constant risk-free short rate\n",
    "    kappa_v: float\n",
    "        mean-reversion factor\n",
    "    theta_v: float\n",
    "        long-run mean of variance\n",
    "    sigma_v: float\n",
    "        volatility of variance\n",
    "    rho: float\n",
    "        correlation between variance and stock/index level\n",
    "    v0: float\n",
    "        initial level of variance\n",
    "\n",
    "    Returns\n",
    "    =======\n",
    "    call_value: float\n",
    "        present value of European call option\n",
    "\n",
    "    '''\n",
    "    int_value = quad(lambda u: H93_int_func(u, S0, K, T, r, kappa_v,\n",
    "                                            theta_v, sigma_v, rho, v0),\n",
    "                     0, np.inf, limit=250)[0]\n",
    "    call_value = max(0, S0 - np.exp(-r * T) * np.sqrt(S0 * K) /\n",
    "                     np.pi * int_value)\n",
    "    return call_value\n"
   ]
  },
  {
   "cell_type": "code",
   "execution_count": 10,
   "metadata": {},
   "outputs": [],
   "source": [
    "'''\n",
    "Calibration Functions\n",
    "'''\n",
    "def H93_error_function(p0, i):\n",
    "    '''\n",
    "    Error function for parameter vector calibration from Lewis (2001)\n",
    "    Fourier approach\n",
    "    \n",
    "    Params\n",
    "    ===\n",
    "    kapp_v: mean reversion factor\n",
    "    theta: long-run mean of variance\n",
    "    sigma: vol of variance\n",
    "    rho: volatility/underlying correlation\n",
    "    v0: instantaneous variance\n",
    "    \n",
    "    Returns\n",
    "    ===\n",
    "    MSE of model to market\n",
    "    '''\n",
    "    i, min_MSE\n",
    "    kappa_v, theta_v, sigma_v, rho, v0 = p0 # Unpack initial guess tuple\n",
    "    \n",
    "    if kappa_v < 0.0 or theta_v < 0.005 or sigma_v < 0.0 or rho < -1.0 or rho > 1.0:\n",
    "        return 500.0 # Max Error for invalid params\n",
    "    if 2 * kappa_v * theta_v < sigma_v **2:\n",
    "        # If mean reversion factor * long run mean of variance is less than vol^2,\n",
    "        # Max error, system going supercrit\n",
    "        return 500.0 \n",
    "    se = []\n",
    "    for row, option in options.iterrows():\n",
    "        model_alue = H93_call_value(S0, option['Strike'], option['T'], option['r'],\n",
    "                                   kappa_v, theta_v, sigma_v, rho, v0)\n",
    "        se.append(model_value - option['Call'] ** 2) # Add MSE\n",
    "    MSE = sum(se) / len(se)\n",
    "    min_MSE = min(min_MSE, MSE) # Was this run btter than the previous run?\n",
    "    \n",
    "    if i % 25 == 0:\n",
    "        print(f'{i:4d} | {np.array(p0)} | {MSE: 7.3f} | {min_MSE: 7.3f}')\n",
    "    i += 1\n",
    "    return MSE\n",
    "    "
   ]
  },
  {
   "cell_type": "code",
   "execution_count": 16,
   "metadata": {},
   "outputs": [],
   "source": [
    "p0_values = ((2.5, 10.6, 5.0), # Kappa\n",
    "            (0.01, 0.041, 0.01), # Theta\n",
    "            (0.05, 0.251, 0.1), # Sigma\n",
    "            (-0.75, 0.01, 0.25), # Rho\n",
    "            (0.01, 0.031, 0.01)) # Initial Vol\n",
    "def H93_calibration_full(p0_values, i):\n",
    "    '''\n",
    "    Calibrate H93 Stochastic Volatility model to market quotes.\n",
    "    \n",
    "    Taking the standard approach to optimization, brute force to get to a sensible\n",
    "    global region to explore, then perform a convex minimization on that region\n",
    "    '''\n",
    "    p0 = brute(H93_error_function(p0_values, i), Finish=None)\n",
    "    \n",
    "    opt = fmin(H93_error_function, p0,\n",
    "              xtol=0.000001, ftol=0.000001,\n",
    "              maxiter=750, maxfun=900)\n",
    "    np.save('opt_sv', np.array(opt))\n",
    "    return opt"
   ]
  },
  {
   "cell_type": "code",
   "execution_count": 18,
   "metadata": {},
   "outputs": [],
   "source": [
    "def H93_calculate_model_values(p0):\n",
    "    '''\n",
    "    Calculates all model values given the optimal parameter vector p0.\n",
    "    '''\n",
    "    kappa_v, theta_v, sigma_v, rho, v0 = p0\n",
    "    values = []\n",
    "    for row, option in option.iterrows():\n",
    "        model_value = H93_call_value(S0, option['Strike'], option['T'],\n",
    "                                    option['r'], kappa_v, theta_v, sigma_v, rho, v0)\n",
    "        values.append(model_value)\n",
    "    return np.array(values)"
   ]
  },
  {
   "cell_type": "code",
   "execution_count": 11,
   "metadata": {},
   "outputs": [],
   "source": [
    "import sys\n",
    "import math\n",
    "import numpy as np\n",
    "np.set_printoptions(suppress=True, formatter={'all': lambda x: '%5.3f' % x})\n",
    "import pandas as pd\n",
    "from scipy.optimize import brute, fmin, minimize\n",
    "import matplotlib as mpl\n",
    "mpl.rcParams['font.family'] = 'serif'\n",
    "\n",
    "# data = Pull in Yves data here\n",
    "S0 = 100 # Replace\n",
    "r0 = 0.05 # Constant Short Rate\n",
    "\n",
    "\n",
    "def h93_calibration(data, short_rate):\n",
    "    '''\n",
    "    Select options to use for calibration\n",
    "    '''\n",
    "    tol = 0.02 # Select those options 2% above/below ATM\n",
    "    options = data[(np.abs(data['Strike']) - S0 / S0) < tol] \n",
    "    i = 0 # Optimization iteration pointer\n",
    "    '''\n",
    "    Add time to maturity and short rate\n",
    "    '''\n",
    "    for row, option in oprtions.iterrows():\n",
    "        T = (option['Maturity'] - option['Date']).days / 365. # Day count\n",
    "        options.ix[row, 'T'] = T\n",
    "        options.ix[row, 'r'] = -math.log(short_rate) / T\n",
    "        \n",
    "    \n",
    "    "
   ]
  },
  {
   "cell_type": "markdown",
   "metadata": {},
   "source": [
    "# Comparison of Implied Volatilities\n",
    "* Now we can calculate an implied volatility from the models we have"
   ]
  },
  {
   "cell_type": "code",
   "execution_count": 19,
   "metadata": {},
   "outputs": [],
   "source": [
    "def calculate_implied_volatilities(data, r):\n",
    "    options = data\n",
    "    for row, option in options.iterrows():\n",
    "        T = option(['Maturity'] - option['Date']).days / 365.\n",
    "        B0T = r\n",
    "        r = -math.log(r) / t\n",
    "        call = call_option(S0, option['Strike'], option['Date'], option['Maturity'],\n",
    "                          option['r'], 0.1)\n",
    "        options.ix[row, 'market_iv'] = call.imp_vol9(option['Call'], 0.15)"
   ]
  },
  {
   "cell_type": "code",
   "execution_count": null,
   "metadata": {},
   "outputs": [],
   "source": []
  }
 ],
 "metadata": {
  "kernelspec": {
   "display_name": "Python 3",
   "language": "python",
   "name": "python3"
  },
  "language_info": {
   "codemirror_mode": {
    "name": "ipython",
    "version": 3
   },
   "file_extension": ".py",
   "mimetype": "text/x-python",
   "name": "python",
   "nbconvert_exporter": "python",
   "pygments_lexer": "ipython3",
   "version": "3.7.3"
  }
 },
 "nbformat": 4,
 "nbformat_minor": 2
}
