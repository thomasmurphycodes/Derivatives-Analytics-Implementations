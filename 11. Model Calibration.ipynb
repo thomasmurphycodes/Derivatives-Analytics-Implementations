{
 "cells": [
  {
   "cell_type": "markdown",
   "metadata": {},
   "source": [
    "# Introduction\n",
    "* Model calibration is the practice of **fitting model parameters to observed prices in the market**\n",
    "* The problem at hand here is **calibrating the general market model to fit market quotes for vanilla (European) options**"
   ]
  },
  {
   "cell_type": "markdown",
   "metadata": {},
   "source": [
    "# Why Calibration?\n",
    "* In a *narrow sense*, market incompleteness implies that a given derivative cannot be replicated perfectly by trading in the underlying.\n",
    "* In the *wider sense* - admitting jumps - market incompleteness implies a given derivative cannot be replicated perfectly even if trading in all assets (underlying and derivatives) is allowed.\n",
    "* Tankov and Voltchkova - \"Since typically the jump size is not known in advance, the risk associated to jumps cannot be hedged away completely: we are in an incomplete market. In this setting, the hedging becomes an approximation problem: instead of *replicating* an option, one tires to *minimze* the residula hedging error.\""
   ]
  },
  {
   "cell_type": "markdown",
   "metadata": {},
   "source": [
    "# Incomplete Market Example - Motivation for Calibration\n",
    "* Consider a simple market with two dates ${t \\in [0, 1]}$ and three states of the economy at t=1 that occur with equal probability.\n",
    "* There are two assets, a bond that pays ${B_{1} = 10}$ and ${B_{0} = 10 = (1+r)^{-1}}$ meaning r = 0. Second, a risky security which costs ${S_{0} = 10}$ and pays tomorrow ${S_{1} = }$\\begin{pmatrix} 20 \\\\ 10 \\\\ 0 \\end{pmatrix}\n",
    "* Because the number of future states is greather than the number of available assets, the system is underdetermined and not every payoff can be replicated.\n",
    "* Because of this, the system is non-deterministic but admits a range of prices consistent with the risk-neutral probability measure with upper and lower bounds of occurrence.\n",
    "* This is an unsatisfactory answer for quants - as it admits multiple prices for a derivate. To resolve the problem, **introduce calibration**\n",
    "* The key idea here is that **there are so many possible risk-neutral probability measures, you must ask the market for the right one**"
   ]
  },
  {
   "cell_type": "markdown",
   "metadata": {},
   "source": [
    "# Which Model to Pick? - this is what to do for the exercise\n",
    "* M76: Not capable for multiple strikes and maturities - but works well for short maturieis and a subset of prices.\n",
    "* H93: Capable of replicating longer maturieis as well.\n",
    "* The takeaway: **When calibrating longer maturities, you need a jump component and stochastic volatility**\n",
    "* B96 is the simplest model that admits both jumps and stochastic volatility.\n",
    "* **What about short rates?** - the impact of the short rate is negligible for shorter maturities, but matter in longer equity derivatives."
   ]
  }
 ],
 "metadata": {
  "kernelspec": {
   "display_name": "Python 3",
   "language": "python",
   "name": "python3"
  },
  "language_info": {
   "codemirror_mode": {
    "name": "ipython",
    "version": 3
   },
   "file_extension": ".py",
   "mimetype": "text/x-python",
   "name": "python",
   "nbconvert_exporter": "python",
   "pygments_lexer": "ipython3",
   "version": "3.7.3"
  }
 },
 "nbformat": 4,
 "nbformat_minor": 2
}
