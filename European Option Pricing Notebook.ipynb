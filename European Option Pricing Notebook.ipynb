{
 "cells": [
  {
   "cell_type": "markdown",
   "metadata": {},
   "source": [
    "# Pricing European Options via Monte Carlo\n",
    "\n",
    "### Assumptions\n",
    "1. A constant risk-free rate with no correlation to the underlying\n",
    "2. Geometric Brownian Motion as the stochastic process\n",
    "3. A jump-free underlying evolution process\n",
    "4. No additional discount factors (dividends etc.)"
   ]
  },
  {
   "cell_type": "markdown",
   "metadata": {},
   "source": [
    "# Vanilla European Option Pricing\n",
    "* Fundamentally, all assets drift at the riskless short-rate - otherwise arbitrage opportunities exist.\n",
    "* The payoff of a European option is ${h(S_{T} \\equiv max(S_{T} - K, 0)}$\n",
    "* A stochastic pricer for this risk-neutral expectation is ${C_{0} = e^{-rT} E_{0}^{Q}(h(S_{T}) = e^{-rT} \\int_{0}^{\\infty} h(s) q(s) ds}$ with ${q(s)}$ as a P-equivalent risk-neutral probability measure\n",
    "* Intuitively, the area under the 0-bounded curve of the security times a volatility process discounted to be risk-neutral\n",
    "* Analytically, a Risk-neutral Monte Carlo estimator is ${\\tilde{C_{0}} = e^{-rT} \\sum_{1}^{I} h(S_{T}^{i})}$ with ${h(S_{T}^{i})}$ here as a stochastic security process"
   ]
  },
  {
   "cell_type": "markdown",
   "metadata": {},
   "source": [
    "# Lookback Option Pricing\n",
    "* These instruments are barely options, behaving more like a structured total return swap\n",
    "* In a **floating strike lookback option**, the call version sets the strike as the minimum price of the underlying during the options life - while the put sets the strike as the maximum option.\n",
    "* In a **fixed strike lookback option**, the payoff is the *maximum difference between the underlying's evolution and the fixed strike.*\n"
   ]
  },
  {
   "cell_type": "markdown",
   "metadata": {},
   "source": [
    "# Asian Option Pricing\n",
    "* An Asian option introduces the a term based on the average (arithmetic) price of the underlying over the life of the option. The payoff profiles are as follows:\n",
    "1. Fixed Asian Call: ${C(T) = max(A(0, T) - K, 0)}$ \n",
    "2. Fixed Asian Put: ${P(T) = max(K - A(0, T), 0)}$\n",
    "3. Float Asian Call: ${C(T) = max(S(T) - A(0, T), 0)}$\n",
    "4. Float Asian Put: ${P(T) = max(A(0, T) - K, 0)}$"
   ]
  },
  {
   "cell_type": "code",
   "execution_count": 65,
   "metadata": {},
   "outputs": [],
   "source": [
    "import numpy as np\n",
    "import math\n",
    "from pylab import plt, mpl\n",
    "plt.style.use('seaborn')\n",
    "mpl.rcParams['font.family'] = 'serif'\n",
    "%matplotlib inline"
   ]
  },
  {
   "cell_type": "code",
   "execution_count": 24,
   "metadata": {},
   "outputs": [],
   "source": [
    "class Helpers:\n",
    "    def generate_var_reduced_random(partitions, trials):\n",
    "        sn = np.random.standard_normal((partitions + 1, trials))\n",
    "        return (sn - sn.mean()) / sn.std()"
   ]
  },
  {
   "cell_type": "code",
   "execution_count": 197,
   "metadata": {},
   "outputs": [],
   "source": [
    "class MarketState:\n",
    "    \n",
    "    def __init__(self, time, S0, r, sigma, option_type='vanilla'):\n",
    "        self.time = time # Option time until expiry (in years)\n",
    "        self.S0 = S0 # Security price at t0\n",
    "        self.sigma = sigma # Security volatility\n",
    "        self.r = r # Constant risk-free rate\n",
    "        self.option_type = option_type # of vanilla, lookback, Asian\n",
    "    \n",
    "\n",
    "    def european_monte_carlo_valuation(self, trials, partitions, strike, call_put):\n",
    "        dt = self.time / partitions\n",
    "        S = np.zeros((partitions + 1, trials))\n",
    "        underlying_maximum = np.zeros((partitions + 1, trials))\n",
    "        underlying_minimum = np.zeros((partitions + 1, trials))\n",
    "        underlying_avg = np.zeros((partitions + 1, trials))\n",
    "        S[0] = self.S0\n",
    "        random_mesh = Helpers.generate_var_reduced_random(partitions, trials) # Gaussian normalized random numbers\n",
    "        for t in range(1, partitions+1):\n",
    "            # Run stochastic process\n",
    "            S[t] = S[self.time-1] * np.exp((self.r - 0.5 * self.sigma ** 2) * dt + self.sigma * math.sqrt(dt) * random_mesh[t]) \n",
    "            underlying_maximum[t] = S[t].max()\n",
    "            underlying_minimum[t] = S[t].min()\n",
    "            underlying_avg[t] = S[t].mean()\n",
    "        if self.option_type == 'vanilla':\n",
    "            if call_put =='call':\n",
    "                hT = np.maximum(S[-1] - strike, 0)\n",
    "            if call_put == 'put':\n",
    "                hT = np.maximum(strike - S[-1], 0) \n",
    "        if self.option_type == 'lookback_float':\n",
    "            if call_put =='call':\n",
    "                strike = underlying_minimum[-1]\n",
    "                hT = np.maximum(S[-1] - strike, 0)\n",
    "            if call_put == 'put':\n",
    "                strike = underlying_maximum[-1]\n",
    "                hT = np.maximum(strike - S[-1], 0) \n",
    "        if self.option_type == 'lookback_fixed':\n",
    "            if call_put =='call':\n",
    "                lc = underlying_maximum[-1] - strike\n",
    "                hT = np.maximum(lc, 0)\n",
    "            if call_put =='put':\n",
    "                lp = strike - underlying_minimum[-1]\n",
    "                hT = np.maximum(lp, 0)\n",
    "        # TODO Asian\n",
    "        if self.option_type == 'asian_fixed':\n",
    "            if call_put =='call':\n",
    "                hT = np.maximum(underlying_avg[-1] - strike, 0)\n",
    "            if call_put == 'put':\n",
    "                hT = np.maximum(strike - underlying_avg[-1], 0) \n",
    "        if self.option_type == 'asian_float':\n",
    "            if call_put =='call':\n",
    "                strike = underlying_minimum[-1]\n",
    "                hT = np.maximum(S[-1] - underlying_avg[-1], 0)\n",
    "            if call_put == 'put':\n",
    "                strike = underlying_maximum[-1]\n",
    "                hT = np.maximum(underlying_avg[-1] - S[-1], 0) \n",
    "        \n",
    "        C0 = math.exp(-self.r * self.time) * np.mean(hT) # Risk neutral mean of trials\n",
    "        return S, hT, C0 # Evolution process of underlying, option values, Monte Carlo mean"
   ]
  },
  {
   "cell_type": "code",
   "execution_count": 77,
   "metadata": {},
   "outputs": [
    {
     "name": "stdout",
     "output_type": "stream",
     "text": [
      "ITM:  961.4621\n",
      "OOTM: 1.8891\n",
      "Near the Money: 36.7345\n"
     ]
    }
   ],
   "source": [
    "tsla = MarketState(1, 1378., 0.02, .6) # Set up some market facts for TSLA\n",
    "S, hT, C0 = tsla.european_monte_carlo_valuation(10000, 50, 400, 'call') # Dramatically in the money\n",
    "S, hT, C1 = tsla.european_monte_carlo_valuation(10000, 50, 1600, 'call') # Dramatically in the money\n",
    "S, hT, C2 = tsla.european_monte_carlo_valuation(10000, 50, 1400, 'call') # Dramatically in the money\n",
    "print(f'ITM: {C0: .4f}')\n",
    "print(f'OOTM: {C1:.4f}') \n",
    "print(f'Near the Money: {C2:.4f}')"
   ]
  },
  {
   "cell_type": "code",
   "execution_count": 86,
   "metadata": {},
   "outputs": [],
   "source": [
    "def generate_european_price_surface(market_state, strikes, option):\n",
    "    price_mean = []\n",
    "    for K in strikes:\n",
    "        process, option_trials, mean_strike = tsla.european_monte_carlo_valuation(10000, 50, K, option)\n",
    "        price_mean.append(mean_strike)\n",
    "    return price_mean"
   ]
  },
  {
   "cell_type": "code",
   "execution_count": 62,
   "metadata": {},
   "outputs": [],
   "source": [
    "tsla = MarketState(1, 1378., 0.02, .6)\n",
    "strike_list = np.arange(800., 1900, 5.)\n",
    "call_surface = generate_european_price_surface(tsla, strike_list, 'call')\n",
    "call_surface = np.array(call_surface)"
   ]
  },
  {
   "cell_type": "code",
   "execution_count": 68,
   "metadata": {},
   "outputs": [
    {
     "data": {
      "text/plain": [
       "Text(0, 0.5, 'Option Value')"
      ]
     },
     "execution_count": 68,
     "metadata": {},
     "output_type": "execute_result"
    },
    {
     "data": {
      "image/png": "[encoded data removed]",
      "text/plain": [
       "<Figure size 1440x864 with 1 Axes>"
      ]
     },
     "metadata": {
      "needs_background": "light"
     },
     "output_type": "display_data"
    }
   ],
   "source": [
    "plt.figure(figsize=(20,12))\n",
    "plt.plot(call_surface)\n",
    "plt.xlabel('Strike Price')\n",
    "plt.ylabel('Option Value')"
   ]
  },
  {
   "cell_type": "code",
   "execution_count": 118,
   "metadata": {},
   "outputs": [
    {
     "data": {
      "text/plain": [
       "(array([  1.,   0.,   1.,   5.,   4.,   8.,  18.,  29.,  42.,  63., 109.,\n",
       "        145., 237., 277., 357., 392., 471., 556., 570., 585., 636., 636.,\n",
       "        627., 594., 567., 497., 463., 395., 332., 288., 259., 184., 162.,\n",
       "        126.,  97.,  72.,  56.,  38.,  33.,  21.,  10.,  11.,   8.,   8.,\n",
       "          3.,   4.,   1.,   0.,   0.,   2.]),\n",
       " array([  0.        ,  19.2815787 ,  38.56315739,  57.84473609,\n",
       "         77.12631479,  96.40789349, 115.68947218, 134.97105088,\n",
       "        154.25262958, 173.53420827, 192.81578697, 212.09736567,\n",
       "        231.37894436, 250.66052306, 269.94210176, 289.22368046,\n",
       "        308.50525915, 327.78683785, 347.06841655, 366.34999524,\n",
       "        385.63157394, 404.91315264, 424.19473133, 443.47631003,\n",
       "        462.75788873, 482.03946743, 501.32104612, 520.60262482,\n",
       "        539.88420352, 559.16578221, 578.44736091, 597.72893961,\n",
       "        617.0105183 , 636.292097  , 655.5736757 , 674.8552544 ,\n",
       "        694.13683309, 713.41841179, 732.69999049, 751.98156918,\n",
       "        771.26314788, 790.54472658, 809.82630528, 829.10788397,\n",
       "        848.38946267, 867.67104137, 886.95262006, 906.23419876,\n",
       "        925.51577746, 944.79735615, 964.07893485]),\n",
       " <a list of 50 Patch objects>)"
      ]
     },
     "execution_count": 118,
     "metadata": {},
     "output_type": "execute_result"
    },
    {
     "data": {
      "image/png": "[encoded data removed]",
      "text/plain": [
       "<Figure size 432x288 with 1 Axes>"
      ]
     },
     "metadata": {
      "needs_background": "light"
     },
     "output_type": "display_data"
    }
   ],
   "source": [
    "tsla = MarketState(1, 1378., 0.02, .62, option_type='lookback_float') # Floating lookback call\n",
    "S, hT, C4 = tsla.european_monte_carlo_valuation(10000, 50, 1378, 'call')\n",
    "# Value of Lookback Float normally distributed, as expected\n",
    "plt.hist(hT, bins=50)"
   ]
  },
  {
   "cell_type": "code",
   "execution_count": 180,
   "metadata": {},
   "outputs": [
    {
     "data": {
      "text/plain": [
       "513.619514637086"
      ]
     },
     "execution_count": 180,
     "metadata": {},
     "output_type": "execute_result"
    }
   ],
   "source": [
    "tsla = MarketState(1, 1378., 0.02, .62, option_type='lookback_fixed') # Fixed lookback call\n",
    "S, hT, C5 = tsla.european_monte_carlo_valuation(10000, 50, 1378, 'call')\n",
    "C5"
   ]
  },
  {
   "cell_type": "code",
   "execution_count": 192,
   "metadata": {},
   "outputs": [
    {
     "data": {
      "text/plain": [
       "358.12308201515106"
      ]
     },
     "execution_count": 192,
     "metadata": {},
     "output_type": "execute_result"
    }
   ],
   "source": [
    "tsla = MarketState(1, 1378., 0.02, .62, option_type='lookback_float') # Float lookback call\n",
    "S, hT, C6 = tsla.european_monte_carlo_valuation(10000, 50, 1378, 'call')\n",
    "C6"
   ]
  },
  {
   "cell_type": "code",
   "execution_count": 257,
   "metadata": {},
   "outputs": [
    {
     "data": {
      "text/plain": [
       "569.6680375176416"
      ]
     },
     "execution_count": 257,
     "metadata": {},
     "output_type": "execute_result"
    }
   ],
   "source": [
    "tsla = MarketState(1, 1378., 0.02, .62, option_type='asian_fixed') # Asian Fixed Call\n",
    "S, hT, C7 = tsla.european_monte_carlo_valuation(10000, 50, 800., 'call')\n",
    "C7"
   ]
  },
  {
   "cell_type": "code",
   "execution_count": 258,
   "metadata": {},
   "outputs": [
    {
     "data": {
      "text/plain": [
       "46.97219695697765"
      ]
     },
     "execution_count": 258,
     "metadata": {},
     "output_type": "execute_result"
    }
   ],
   "source": [
    "tsla = MarketState(1, 1378., 0.02, .62, option_type='asian_float') # Asian Floating Put\n",
    "S, hT, C7 = tsla.european_monte_carlo_valuation(10000, 50, 1400., 'put')\n",
    "C7"
   ]
  }
 ],
 "metadata": {
  "kernelspec": {
   "display_name": "Python 3",
   "language": "python",
   "name": "python3"
  },
  "language_info": {
   "codemirror_mode": {
    "name": "ipython",
    "version": 3
   },
   "file_extension": ".py",
   "mimetype": "text/x-python",
   "name": "python",
   "nbconvert_exporter": "python",
   "pygments_lexer": "ipython3",
   "version": "3.7.3"
  }
 },
 "nbformat": 4,
 "nbformat_minor": 2
}
