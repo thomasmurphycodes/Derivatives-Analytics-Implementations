{
 "cells": [
  {
   "cell_type": "markdown",
   "metadata": {},
   "source": [
    "# Takeaways\n",
    "* This covers both chapter 6 of DAWP and Monte Carlo Simulation (video)"
   ]
  },
  {
   "cell_type": "markdown",
   "metadata": {},
   "source": [
    "# Introduction \n",
    "* Let's explore an approach to derive methods with formulas as useful as Black-Scholes-Merton for more general settings that still respect risk-neutral pricing\n",
    "* Enter the Fourier apporach - three chief advantages:\n",
    "    1. This approach can be used whenever the stochastic rpocess driving uncertainty is known.\n",
    "    2. The semi-analytic Fourier formulas can be evaluated to high accuracy at low iterations\n",
    "    3. The formulas can be evaluated to the extent that 1000s of options can be evaluated per second\n",
    "* We'll evaluate index call options (European exercise) here, but puts can be easily evaluated via the put-call parity too.\n",
    "* First let's reformulate the risk-neutral pricing in the context of Fourier"
   ]
  },
  {
   "cell_type": "markdown",
   "metadata": {},
   "source": [
    "# Pricing Problem translated to Fourier\n",
    "* Consider the continuous market model ${\\mathbf{M} = [\\Omega, \\mathbf{F}, \\mathbb{F}, P, T, S, B]}$ in the two instrument economy with one stock and one bond.\n",
    "* As usual, assume a no-arbitrage economy with P-equivalent probabilty measure Q making the discounted process a martingale.\n",
    "* The arbitrage value is then ${C_{T} = \\exp(-r(T - t)) \\mathbf{E}_{t}^{Q}(C_{T})}$\n",
    "* In its integral form, this value is ${C_{0} = \\exp(-r(T-t)) \\int_{0}^\\infty C_{T}(s)q(s)ds}$ with q(s) as the risk-neutral **probability density function** of ${S_{T}}$\n",
    "* Sadly, this function is not known in closed form - but the **characteristic function** of ${S_{T}}$ is\n",
    "* The **CENTRAL IDEA IS** Fourier-based approach is centered around this - **replace the Probability Density Function with the Characteristic Function** and **replace the call payoff by its Fourier transform**."
   ]
  },
  {
   "cell_type": "markdown",
   "metadata": {},
   "source": [
    "# Fourier Transform Definitions\n",
    "* The **Fourier Transform** of integrable function ${f(x)}$ is ${\\hat{f(u)} \\equiv \\int_{-\\infty}^{\\infty} \\exp(i u x) f(x) dx}$ with u real or complex and ${\\exp(i u x)}$ called the phase factor\n",
    "* The **Fourier Inversion** is ${f(x) = 1/2\\pi \\int_{-\\infty}^{\\infty} \\exp{-i u x} \\hat{f}(u) du}$ where ${u}$ is real and ${f(x) = 1/2\\pi \\int_{-\\infty + i u_{i}}^{\\infty + i u_{i}} \\exp(-i u x) \\hat{f}(u)du}$ for ${u}$ complex, with ${u = u_{r} + i u_{i}}$ with ${u_{r}}$ real part and ${u_{i}}$ imaginary part\n",
    "* The **inner product of two complex functions** is ${<f,g> \\equiv \\int_{-\\infty}^{\\infty} f(x) \\overline{g(x)} dx}$ with ${\\overline{u}}$ as ${\\overline{u} = u_{r} - i u_{i}}$ and u as ${u = u_{r} + i u_{i}}$\n",
    "* **Parseval's Relation** on two complex functions ${<f, g>}$ is ${<f, g> = 1/2\\pi \\int_{-\\infty}^{\\infty} \\hat{f}(k)\\overline{\\hat{g}(k)}dk} = 1/2\\pi <\\hat{f}, \\hat{g}>$ **This is what we we apply to calculate option prices with Fourier**\n",
    "* **Characteristic Function** of random variable ${X}$ distributed with probability distribution function q(x) is the Fourier transform of the pdf: ${\\hat{q}(u) \\equiv \\int_{-\\infty}^{\\infty} \\exp{(-i u x)} q(x) dx = \\mathbf{E}^Q(e^{iux})}$"
   ]
  },
  {
   "cell_type": "markdown",
   "metadata": {},
   "source": [
    "# Fourier Based Option Pricing - Lewis (2001) Approach\n",
    "* Consider the index option with payoff ${C_{T} \\equiv max[e^{s} - K, 0]}$ with ${s \\equiv log S}$\n",
    "* The **Call Option Transform** for ${u = u_{r} + i u_{i} }$ with ${u_{i} > 1}$ is ${\\hat{C}_{T}(u) = - K^{iu+1}/u^{2} - iu}$ `Note that all imaginary terms become real because of multiplication by i or exponential` \n",
    "* Given the martingale measure price ${S_{t} \\equiv S_{0} e^{rt + X_{t}}}$ with ${X_{t}}$ a Lévy process, then the probability measure ${\\hat{q}(-u) = e^{-i u y} \\varphi(-u)}$ with ${\\varphi}$ as the characteristic function of ${X_{T}}$ and ${y \\equiv log(S_{0}) + rT}$\n",
    "* From this ${C_{0} = e^{-rT} / 2 \\pi \\int_{-\\infty + i u_i}^{\\infty + i u_i} e^{-i u y} \\hat{C}(u) \\varphi(-u) du/u^2 - ui}$ \n",
    "* Then using the call option payoff transform we have: ${C_{0} = - (Ke^{-rT} / 2 \\pi) \\int_{-\\infty + i u_i}^{\\infty + i u_i} e^{-i u k} \\varphi(-u) du/u^2 - ui}$ with ${k = log(S_{0} / K)}$\n",
    "* Finally, from this, given ${u_{i} \\in (0, 1)}$, the present value of a call option is ${S_{0} - (Ke^{-rT} / 2 \\pi) \\int_{-\\infty + i u_i}^{\\infty + i u_i} e^{-i u k} \\varphi(-u) du/u^2 - ui}$\n",
    "* Setting ${u_{i} = 0.5}$ gives ${C_{0} = S_{0} - (\\sqrt{S_{0} K} e^{-rT/2} / \\pi) \\int_{0}^{\\infty} \\Re[e^{izk} \\varphi(z - i/2)] dz/z^2 + 1/4}$ - and this **we can evaluate with standard quadrature**"
   ]
  },
  {
   "cell_type": "markdown",
   "metadata": {},
   "source": [
    "# Fourier Based Option Pricing - Carr-Madan (1999) Approach\n",
    "* Define the patoff of an index option with strike price K at maturity T as ${C_{T} \\equiv max[S_{T} -K, 0]}$m with ${K \\equiv e^{k}}$ and ${S_{T} = e^s}$ - then the present value of a call option is ${C_{0} \\equiv e^{-rT} \\mathbf{E}_{0}^Q (max[e^s - e^k, 0]) \\equiv e^{-rT} \\int_{k}^\\infty (e^s - e^k) q(s) ds}$ with ${q(s)}$ the risk neutral probability density functio of ${s_{T}}$\n",
    "* To ensure we can integrate this, define ${c_{0} \\equiv e^{\\alpha k} C_{0}}$ with ${\\alpha > 0}$\n",
    "* Then the Fourier transform of ${c_{0}}$ is ${\\Psi(v) \\equiv \\int_{-\\infty}^{\\infty} e^{ivk} c_{0} dk }$\n",
    "* and the inverse transform is ${C_{0} = e^{- \\alpha k}/\\pi \\int_{0}^{\\infty} e^{-ivk} \\Psi(v) dv}$\n",
    "* The value of an **In-the-Money** option is: ${\\Psi(v) = e^{-rT} \\Psi(v - (\\alpha + 1) i)/(\\alpha^2 + \\alpha - v^2 + i(2 \\alpha + 1)v)}$ with ${\\varphi}$ as the characteristic function ${\\varphi(u) \\equiv \\mathbf{E}_{0}^{Q} (e^{i u s_{T}})}$ with ${s_{T} \\equiv log S_{T}}$\n",
    "* To value an **Out-of-the-Money** option, set ${z_{0}}$ to be the current price of a **Index put** if ${k < log(S_{0})}$, otherwise the price of an **Index call** where ${S_{0} \\equiv 1}$ - in other words consider time values only.\n",
    "* From this - the Fourier transform of ${z_{0}}$ is ${\\zeta(v) = e^{-rT} (1/(1 + iv)) - (e^{rT} / iv) - (\\varphi(v - i) / v^2 - iv))}$\n",
    "* Using the symmetry of ${z_{0}}$ around ${k = 0}$, dampen the function by ${sinh(\\alpha k)}$ to get the transform: ${\\gamma(v) = \\int_{-\\infty}^{\\infty} e^{ivk} sinh(\\alpha k) z_{0} dk = (\\zeta(v - ia) - \\zeta(v + ia)) / 2}$\n",
    "* Interverting this transform (the gamma one), we get the time value as ${z_{0} = \\frac{1}{sinh(\\alpha k)} \\frac{1}{2 \\pi} \\int_{-\\infty}^{\\infty} e^{-ivk} \\gamma(v) dv}$"
   ]
  },
  {
   "cell_type": "markdown",
   "metadata": {},
   "source": [
    "# Numerical Evaluation of Fourier pricing integrals\n",
    "* We've now transitioned into a **discrete setting** and will work on **Fourier Series**\n",
    "* A **Fourier Series** is an infinte sum of ${f(x) = \\sum_{n=0}^\\infty (a_{n} cos(n x) + b_{n} sin(n x))}$ which is a ${2\\pi}$-periodic function\n",
    "* If ${f(x)}$ is a known ${2\\pi}$-periodic function, then the coefficients ${a}$ and ${b}$ are according to the Euler formulas:\n",
    "    1. ${a_{0} = \\frac{1}{2L} \\int_{-L}^{L} f(x) dx}$\n",
    "    2. ${a_{n} = \\frac{1}{L} \\int_{-L}^{L} f(x) cos(\\frac{n \\pi}{L}x) dx}$\n",
    "    3. ${b_{n} = \\frac{1}{L} \\int_{-L}^{L} f(x) sin(\\frac{n \\pi}{L}x) dx}$\n",
    "* If u is complex (${u = u_{r} + i u_{i}}$), then by Euler identity ${e^{iux} = e^{u_{r} x} cos(u_{r}x) + i e^{u_{i} x} sin(u_{i} x)}$\n",
    "* Which gives the complex Fourier series: ${f(x) = \\sum_{n=-\\infty}^{\\infty} c_{n} e^{i \\frac{n\\pi}{L}x}}$ with ${c_{n}}$ defined as ${c_{n} = \\frac{1}{2L} \\int_{-L}^{L} f(x) e^{i \\frac{n\\pi}{L}x} dx}$"
   ]
  },
  {
   "cell_type": "markdown",
   "metadata": {},
   "source": [
    "# Fast Fourier Transform\n",
    "* Ths Fast Fourier transform was defined by J. W. Cooley and provides an efficient way to compute sums of type ${w(u) = \\sum_{j=1}^N e^{-i \\frac{2\\pi}{N}(j-1)(u-1) x(j)}, u = 1, …, N}$, like those in Carr and Madan\n",
    "* With ${v_{j} \\equiv \\eta(j - 1)}$, the above integral can be approximated as ${C_{0} \\approx \\frac{e^{-\\alpha k}}{\\pi} \\sum_{j=1}^{N} e^{-iv_{j}k} \\Psi(v_{j}) \\eta}$"
   ]
  },
  {
   "cell_type": "markdown",
   "metadata": {},
   "source": [
    "# Black Scholes Transform\n",
    "* Given the characteristic function of the BSM model ${\\varphi_{0}^{BSM}(u, T) = exp(r - \\frac{\\sigma^2}{2}) * iu - \\frac{\\sigma^2}{2} * u^2) T)}$ we can calculate its value with Fourier"
   ]
  },
  {
   "cell_type": "code",
   "execution_count": 1,
   "metadata": {},
   "outputs": [],
   "source": [
    "# Consider the standard option parameters\n",
    "S0 = 100.00\n",
    "K = 100.00\n",
    "T = 1.\n",
    "r = 0.05\n",
    "sigma = 0.2"
   ]
  },
  {
   "cell_type": "code",
   "execution_count": 2,
   "metadata": {},
   "outputs": [],
   "source": [
    "import numpy as np\n",
    "def BSM_characteristic_function(u, x0, T, r, sigma):\n",
    "    # x0 / T scales the function\n",
    "    cf_value = np.exp((((x0 / T + r - 0.5 * sigma ** 2) * 1j * u - 0.5 * sigma **2 * u ** 2)) * T)\n",
    "    return cf_value"
   ]
  },
  {
   "cell_type": "code",
   "execution_count": 4,
   "metadata": {},
   "outputs": [],
   "source": [
    "def BSM_integral_function(u, S0, K, T, r, sigma):\n",
    "    cf_value = BSM_characteristic_function(u - 1j * 0.5, 0.0, T, r, sigma)\n",
    "    int_value = 1 / (u ** 2 + 0.25) * (np.exp(1j * u * np.log(S0 / K)) * cf_value).real\n",
    "    return int_value # Discard the imaginary part"
   ]
  },
  {
   "cell_type": "code",
   "execution_count": 6,
   "metadata": {},
   "outputs": [],
   "source": [
    "# Implementation of the full Integral Transform\n",
    "from scipy.integrate import quad\n",
    "def BSM_call_value_INT(S0, K, T, r, sigma):\n",
    "    int_value = quad(lambda u: BSM_integral_function(u, S0, K, T, r, sigma), 0, 100)[0]\n",
    "    call_value = max(0, S0 - np.exp(-r * T) * np.sqrt(S0 * K) / np.pi * int_value)\n",
    "    \n",
    "    return call_value"
   ]
  },
  {
   "cell_type": "code",
   "execution_count": 7,
   "metadata": {},
   "outputs": [
    {
     "data": {
      "text/plain": [
       "10.450583572184797"
      ]
     },
     "execution_count": 7,
     "metadata": {},
     "output_type": "execute_result"
    }
   ],
   "source": [
    "BSM_fou = BSM_call_value_INT(S0, K, T, r, sigma)\n",
    "BSM_fou"
   ]
  },
  {
   "cell_type": "code",
   "execution_count": null,
   "metadata": {},
   "outputs": [],
   "source": []
  }
 ],
 "metadata": {
  "kernelspec": {
   "display_name": "Python 3",
   "language": "python",
   "name": "python3"
  },
  "language_info": {
   "codemirror_mode": {
    "name": "ipython",
    "version": 3
   },
   "file_extension": ".py",
   "mimetype": "text/x-python",
   "name": "python",
   "nbconvert_exporter": "python",
   "pygments_lexer": "ipython3",
   "version": "3.7.3"
  }
 },
 "nbformat": 4,
 "nbformat_minor": 2
}
